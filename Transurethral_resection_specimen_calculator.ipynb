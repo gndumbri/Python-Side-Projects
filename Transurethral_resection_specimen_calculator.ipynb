{
  "nbformat": 4,
  "nbformat_minor": 0,
  "metadata": {
    "colab": {
      "name": "Transurethral resection specimen calculator",
      "provenance": [],
      "collapsed_sections": []
    },
    "kernelspec": {
      "name": "python3",
      "display_name": "Python 3"
    }
  },
  "cells": [
    {
      "cell_type": "markdown",
      "metadata": {
        "id": "4B-Cuhb4peLY",
        "colab_type": "text"
      },
      "source": [
        "#Transurethral resection specimen calculator\n",
        "\n",
        "Transurethral resection specimens that weigh 12 g or less should be \n",
        "submitted in their entirety, usually in 6 to 8 cassettes. \n",
        "\n",
        "For specimens that weigh more than 12 g, the initial 12 g are submitted (6-8 cassettes)\n",
        "\n",
        "1 cassette may be submitted for every additional 5 g of remaining tissue."
      ]
    },
    {
      "cell_type": "code",
      "metadata": {
        "id": "7cX-FB72Yafw",
        "colab_type": "code",
        "cellView": "both",
        "colab": {}
      },
      "source": [
        "def find_cassette_count(specimen_weight):\n",
        "    if int(specimen_weight) <= 12:\n",
        "        count_equal_or_less = \"Use 6 to 8 cassettes\" \n",
        "        print(count_equal_or_less)\n",
        "    else:\n",
        "        cassette_counter_low = 6\n",
        "        cassette_counter_high = 8\n",
        "        x = range(12, int(specimen_weight), 5)\n",
        "        for num in x:\n",
        "            cassette_counter_low += 1\n",
        "            total_low = cassette_counter_low\n",
        "            cassette_counter_high += 1 \n",
        "            total_high = cassette_counter_high\n",
        "        print(\"Use {} to {} cassettes\".format(total_low, total_high))\n",
        "\n",
        "weight = input(\"How much does your transurethral resection specimen weigh? (Only provide numeric answer! Then hit ENTER) \\n\\n\")\n",
        "print('\\n')\n",
        "find_cassette_count(weight)\n",
        "\n"
      ],
      "execution_count": 0,
      "outputs": []
    }
  ]
}
