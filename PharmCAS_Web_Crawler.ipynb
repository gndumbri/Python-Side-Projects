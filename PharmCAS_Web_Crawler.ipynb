{
  "nbformat": 4,
  "nbformat_minor": 0,
  "metadata": {
    "colab": {
      "name": "PharmCAS Web Crawler",
      "provenance": [],
      "collapsed_sections": [],
      "include_colab_link": true
    },
    "kernelspec": {
      "name": "python3",
      "display_name": "Python 3"
    },
    "accelerator": "GPU"
  },
  "cells": [
    {
      "cell_type": "markdown",
      "metadata": {
        "id": "view-in-github",
        "colab_type": "text"
      },
      "source": [
        "<a href=\"https://colab.research.google.com/github/gndumbri/Python-Side-Projects/blob/master/PharmCAS_Web_Crawler.ipynb\" target=\"_parent\"><img src=\"https://colab.research.google.com/assets/colab-badge.svg\" alt=\"Open In Colab\"/></a>"
      ]
    },
    {
      "cell_type": "code",
      "metadata": {
        "id": "N8RM7QFsL59y",
        "colab_type": "code",
        "colab": {}
      },
      "source": [
        "!apt-get update"
      ],
      "execution_count": 0,
      "outputs": []
    },
    {
      "cell_type": "code",
      "metadata": {
        "id": "VMikW8N0jFaB",
        "colab_type": "code",
        "colab": {}
      },
      "source": [
        "!apt install chromium-chromedriver"
      ],
      "execution_count": 0,
      "outputs": []
    },
    {
      "cell_type": "code",
      "metadata": {
        "id": "_4kThTAscpMn",
        "colab_type": "code",
        "colab": {}
      },
      "source": [
        "!pip install selenium\n",
        "from selenium import webdriver\n",
        "from selenium.webdriver.common.by import By\n",
        "from selenium.webdriver.support.ui import WebDriverWait\n",
        "from selenium.webdriver.support import expected_conditions as EC\n",
        "import pandas as pd\n",
        "import requests\n",
        "from bs4 import BeautifulSoup\n",
        "from google.colab import files\n",
        "options = webdriver.ChromeOptions()\n",
        "options.add_argument('--headless')\n",
        "options.add_argument('--no-sandbox')\n",
        "options.add_argument('--disable-dev-shm-usage')"
      ],
      "execution_count": 0,
      "outputs": []
    },
    {
      "cell_type": "code",
      "metadata": {
        "id": "soqxZWqdvaUo",
        "colab_type": "code",
        "colab": {}
      },
      "source": [
        "driver = webdriver.Chrome('chromedriver',options=options)\n",
        "driver.get(\"http://www.pharmcas.org/school-directory/#/pharmd/general-information\")\n",
        "driver.implicitly_wait(10)"
      ],
      "execution_count": 0,
      "outputs": []
    },
    {
      "cell_type": "code",
      "metadata": {
        "id": "S19D1_01vrG_",
        "colab_type": "code",
        "outputId": "19241c9c-1cba-4930-d7be-057aef7b7153",
        "colab": {
          "base_uri": "https://localhost:8080/",
          "height": 34
        }
      },
      "source": [
        "numbers = driver.find_elements(By.XPATH, \n",
        "          '//table[@class=\"phc-schools-table phc-schools-table-pharmd\"]//a')\n",
        "links = []\n",
        "for n in numbers:\n",
        "    number = n.get_attribute('href')\n",
        "    links.append(number)\n",
        "\n",
        "len(links)"
      ],
      "execution_count": 0,
      "outputs": [
        {
          "output_type": "execute_result",
          "data": {
            "text/plain": [
              "166"
            ]
          },
          "metadata": {
            "tags": []
          },
          "execution_count": 5
        }
      ]
    },
    {
      "cell_type": "code",
      "metadata": {
        "id": "aHicGqU2tY7u",
        "colab_type": "code",
        "outputId": "8cfb4093-3566-49d1-df3b-e2e83f2bf560",
        "colab": {
          "base_uri": "https://localhost:8080/",
          "height": 34
        }
      },
      "source": [
        "len(links[11:])"
      ],
      "execution_count": 0,
      "outputs": [
        {
          "output_type": "execute_result",
          "data": {
            "text/plain": [
              "155"
            ]
          },
          "metadata": {
            "tags": []
          },
          "execution_count": 6
        }
      ]
    },
    {
      "cell_type": "code",
      "metadata": {
        "id": "KXgonq9kyj1H",
        "colab_type": "code",
        "colab": {}
      },
      "source": [
        "def pharm_crawl(a_list, data_list):\n",
        "    headers = {'user-agent': 'jobscraper - school project (gndumbri@gmail.com)'}\n",
        "    for i in a_list:\n",
        "        url = i\n",
        "        response = requests.get(url, headers=headers)\n",
        "        if response.ok:\n",
        "            data = response.text\n",
        "\n",
        "            soup = BeautifulSoup(data, 'html.parser')\n",
        "            \n",
        "            name = soup.select('h1')\n",
        "            names = [nom.get_text() for nom in name]\n",
        "            all_names = ''.join(names[0]).strip()\n",
        "\n",
        "            if soup.find(\"span\", itemprop=\"addressRegion\") is not None:\n",
        "                state = soup.find(\"span\", itemprop=\"addressRegion\").get_text()\n",
        "            else:\n",
        "                state = 'N/A'\n",
        "\n",
        "            deadline = soup.select('.deadline > table > tbody > tr > \\\n",
        "            td:nth-of-type(2)')\n",
        "            deadlines = [dead.get_text() for dead in deadline]\n",
        "            all_deadlines = ''.join(deadlines)\n",
        "\n",
        "            seat = soup.select('.prog-statistics > table > tbody > \\\n",
        "            tr:nth-of-type(1) > td:nth-of-type(2)')\n",
        "            seats = [spot.get_text() for spot in seat]\n",
        "            all_seats = ''.join(seats)\n",
        "\n",
        "            private = soup.select('.prog-information > table > tbody > \\\n",
        "            tr:nth-of-type(3) > td:nth-of-type(2)')\n",
        "            statuses = [status.get_text() for status in private]\n",
        "            all_statuses = ''.join(statuses).strip()\n",
        "\n",
        "            early = soup.select('.prog-information > table > tbody > \\\n",
        "            tr:nth-of-type(11) > td:nth-of-type(2)')\n",
        "            early_dec = [first.get_text() for first in early]\n",
        "            all_early = ''.join(early_dec)\n",
        "            \n",
        "            ea = soup.select('.prog-information > table > tbody > \\\n",
        "            tr:nth-of-type(12) > td:nth-of-type(2) > ul > li')\n",
        "            eas = [e_a.get_text() for e_a in ea]\n",
        "            all_eas = ''.join(eas)\n",
        "\n",
        "            min_ovr = soup.select('.prog-criteria > table > tbody > \\\n",
        "            tr:nth-of-type(1) > td:nth-of-type(2)')\n",
        "            mins = [ovr.get_text() for ovr in min_ovr]\n",
        "            all_min_ovr = ''.join(mins)\n",
        "\n",
        "            min_req = soup.select('.prog-criteria > table > tbody > \\\n",
        "            tr:nth-of-type(2) > td:nth-of-type(2)')\n",
        "            reqs = [req.get_text() for req in min_req]\n",
        "            all_min_req = ''.join(reqs)\n",
        "\n",
        "            hour = soup.select('.prog-prerequisites > table:nth-of-type(1) > \\\n",
        "            tbody > tr:nth-of-type(1) > td:nth-of-type(2)')\n",
        "            hours = [our.get_text() for our in hour]\n",
        "            all_hours = ''.join(hours)\n",
        "\n",
        "            pcat = soup.select('.test > table > tbody > tr:nth-of-type(1) > \\\n",
        "            td:nth-of-type(2) > p')\n",
        "            scores = [score.get_text() for score in pcat]\n",
        "            all_scores = ''.join(scores).strip()\n",
        "\n",
        "            lor = soup.select('.letters-of-reference > table > tbody > \\\n",
        "            tr:nth-of-type(2) > td:nth-of-type(2)')\n",
        "            lors = [lo.get_text() for lo in lor]\n",
        "            all_lors = ''.join(lors).strip()\n",
        "\n",
        "            deposit = soup.select('.accepted-applicants > table > tbody > \\\n",
        "            tr > td > p')\n",
        "            deposit = [dep.get_text() for dep in deposit]\n",
        "            deposits = ''.join(deposit).strip()\n",
        "            \n",
        "            amount = soup.select('.accepted-applicants > table > tbody > \\\n",
        "            tr > td > table > tbody > tr:nth-of-type(1) > td:nth-of-type(2)')\n",
        "            amount = [am.get_text() for am in amount]\n",
        "            amounts = ''.join(amount).strip()\n",
        "\n",
        "            details = soup.select('.accepted-applicants > table > tbody > \\\n",
        "            tr > td > table > tbody > tr:nth-of-type(2) > td:nth-of-type(2)')\n",
        "            details = [det.get_text() for det in details]\n",
        "            details = ''.join(details).replace('\\r', '')\n",
        "            details = ''.join(details).replace('\\n', '')\n",
        "\n",
        "            details_2 = soup.select('.accepted-applicants > table > tbody > \\\n",
        "            tr > td > table > tbody > tr:nth-of-type(3) > td:nth-of-type(2)')\n",
        "            details_2 = [det.get_text() for det in details_2]\n",
        "            details_2 = ''.join(details_2).replace('\\r', '')\n",
        "            details_2 = ''.join(details_2).replace('\\n', '')\n",
        "\n",
        "            deposit_info = deposits + ': ' + amounts + ' Refundable: ' \\\n",
        "            + details + ' - ' + details_2\n",
        "\n",
        "        data_list.append((all_names, state, all_deadlines, \n",
        "                          all_seats, all_statuses, \n",
        "                          all_early, all_eas, all_min_ovr, all_min_req, \n",
        "                          all_hours, all_scores, all_lors, deposit_info))\n"
      ],
      "execution_count": 0,
      "outputs": []
    },
    {
      "cell_type": "code",
      "metadata": {
        "id": "jWDHl_Eq3cXB",
        "colab_type": "code",
        "outputId": "d70db01f-cf41-4741-ea5a-fb0a4a0e1579",
        "colab": {
          "base_uri": "https://localhost:8080/",
          "height": 618
        }
      },
      "source": [
        "data_list = []\n",
        "pharm_crawl(links[11:], data_list)\n",
        "\n",
        "df = pd.DataFrame(data_list, columns=['School', \n",
        "                  'State', 'Application Deadline', \n",
        "                  'Class Size','Inst Type', 'Early Decision',\n",
        "                  'Specialty Programs', 'Min Overall GPA',\n",
        "                  'Min Pre-Req GPA', 'Pre-req hours',\n",
        "                  'PCAT Required', 'LORs', 'Deposit'])\n",
        "df.head()"
      ],
      "execution_count": 0,
      "outputs": [
        {
          "output_type": "execute_result",
          "data": {
            "text/html": [
              "<div>\n",
              "<style scoped>\n",
              "    .dataframe tbody tr th:only-of-type {\n",
              "        vertical-align: middle;\n",
              "    }\n",
              "\n",
              "    .dataframe tbody tr th {\n",
              "        vertical-align: top;\n",
              "    }\n",
              "\n",
              "    .dataframe thead th {\n",
              "        text-align: right;\n",
              "    }\n",
              "</style>\n",
              "<table border=\"1\" class=\"dataframe\">\n",
              "  <thead>\n",
              "    <tr style=\"text-align: right;\">\n",
              "      <th></th>\n",
              "      <th>School</th>\n",
              "      <th>State</th>\n",
              "      <th>Application Deadline</th>\n",
              "      <th>Class Size</th>\n",
              "      <th>Inst Type</th>\n",
              "      <th>Early Decision</th>\n",
              "      <th>Specialty Programs</th>\n",
              "      <th>Min Overall GPA</th>\n",
              "      <th>Min Pre-Req GPA</th>\n",
              "      <th>Pre-req hours</th>\n",
              "      <th>PCAT Required</th>\n",
              "      <th>LORs</th>\n",
              "      <th>Deposit</th>\n",
              "    </tr>\n",
              "  </thead>\n",
              "  <tbody>\n",
              "    <tr>\n",
              "      <th>0</th>\n",
              "      <td>Albany College of Pharmacy and Health Sciences...</td>\n",
              "      <td>New York</td>\n",
              "      <td>June 1, 2020</td>\n",
              "      <td>170</td>\n",
              "      <td>Private</td>\n",
              "      <td>Yes</td>\n",
              "      <td>Early Assurance</td>\n",
              "      <td>2.5</td>\n",
              "      <td>2.5</td>\n",
              "      <td>63</td>\n",
              "      <td>Required</td>\n",
              "      <td>Two (2)</td>\n",
              "      <td>Yes: $500.00 Refundable: No -</td>\n",
              "    </tr>\n",
              "    <tr>\n",
              "      <th>1</th>\n",
              "      <td>Albany College of Pharmacy and Health Sciences...</td>\n",
              "      <td>Vermont</td>\n",
              "      <td>May 1, 2020</td>\n",
              "      <td>30</td>\n",
              "      <td>Private</td>\n",
              "      <td>Yes</td>\n",
              "      <td>Early Assurance Accelerated Progression (year...</td>\n",
              "      <td>2.5</td>\n",
              "      <td>2.5</td>\n",
              "      <td>63</td>\n",
              "      <td>Required</td>\n",
              "      <td>Two (2)</td>\n",
              "      <td>Yes: $500.00 Refundable: No -</td>\n",
              "    </tr>\n",
              "    <tr>\n",
              "      <th>2</th>\n",
              "      <td>American University of Health Sciences</td>\n",
              "      <td>California</td>\n",
              "      <td>June 1, 2020</td>\n",
              "      <td>60</td>\n",
              "      <td>Private</td>\n",
              "      <td>No</td>\n",
              "      <td>None</td>\n",
              "      <td>2.5</td>\n",
              "      <td>2.0</td>\n",
              "      <td>57</td>\n",
              "      <td>Optional</td>\n",
              "      <td>Three (3)</td>\n",
              "      <td>Yes: $500 Refundable: No - Applicants accepted...</td>\n",
              "    </tr>\n",
              "    <tr>\n",
              "      <th>3</th>\n",
              "      <td>Appalachian College of Pharmacy</td>\n",
              "      <td>Virginia</td>\n",
              "      <td>July 1, 2020</td>\n",
              "      <td>75</td>\n",
              "      <td>Private</td>\n",
              "      <td>Yes</td>\n",
              "      <td>None</td>\n",
              "      <td>2.00</td>\n",
              "      <td>2.00</td>\n",
              "      <td>72</td>\n",
              "      <td>Optional</td>\n",
              "      <td>Three (3)</td>\n",
              "      <td>Yes: $1000.00 Refundable: Yes - The $1,000 sea...</td>\n",
              "    </tr>\n",
              "    <tr>\n",
              "      <th>4</th>\n",
              "      <td>Auburn University</td>\n",
              "      <td>Alabama</td>\n",
              "      <td>July 1, 2020</td>\n",
              "      <td>151</td>\n",
              "      <td>Public</td>\n",
              "      <td>Yes</td>\n",
              "      <td>Early Assurance</td>\n",
              "      <td>2.5</td>\n",
              "      <td>2.5</td>\n",
              "      <td>87</td>\n",
              "      <td>Optional</td>\n",
              "      <td>Three (3)</td>\n",
              "      <td>Yes: $500 Refundable: No - Applicants admitted...</td>\n",
              "    </tr>\n",
              "  </tbody>\n",
              "</table>\n",
              "</div>"
            ],
            "text/plain": [
              "                                              School  ...                                            Deposit\n",
              "0  Albany College of Pharmacy and Health Sciences...  ...                     Yes: $500.00 Refundable: No - \n",
              "1  Albany College of Pharmacy and Health Sciences...  ...                     Yes: $500.00 Refundable: No - \n",
              "2             American University of Health Sciences  ...  Yes: $500 Refundable: No - Applicants accepted...\n",
              "3                    Appalachian College of Pharmacy  ...  Yes: $1000.00 Refundable: Yes - The $1,000 sea...\n",
              "4                                  Auburn University  ...  Yes: $500 Refundable: No - Applicants admitted...\n",
              "\n",
              "[5 rows x 13 columns]"
            ]
          },
          "metadata": {
            "tags": []
          },
          "execution_count": 13
        }
      ]
    },
    {
      "cell_type": "code",
      "metadata": {
        "id": "7zmDvHLfmbao",
        "colab_type": "code",
        "colab": {}
      },
      "source": [
        "df.to_csv('Pharmacy_School_Surveillance_Program.csv', index = None, \n",
        "          header=True, encoding='utf-8')"
      ],
      "execution_count": 0,
      "outputs": []
    },
    {
      "cell_type": "code",
      "metadata": {
        "id": "DcLpMYicvw69",
        "colab_type": "code",
        "colab": {}
      },
      "source": [
        "files.download('Pharmacy_School_Surveillance_Program.csv')"
      ],
      "execution_count": 0,
      "outputs": []
    },
    {
      "cell_type": "code",
      "metadata": {
        "id": "h5cGzjGno2Rk",
        "colab_type": "code",
        "colab": {}
      },
      "source": [
        "# testing\n",
        "my_list = []\n",
        "url = 'http://schoolpages.pharmcas.org/publishedsurvey/414'\n",
        "response = requests.get(url)\n",
        "if response.ok:\n",
        "\n",
        "    data = response.text\n",
        "\n",
        "    pcat_score = soup.select('.test > table > tbody > \\\n",
        "    tr:nth-of-type(2) > td:nth-of-type(2)')\n",
        "    pcat_scores = [pcs.get_text() for pcs in pcat_score]\n",
        "    all_pcat_scores = ''.join(pcat_scores)\n",
        "\n"
      ],
      "execution_count": 0,
      "outputs": []
    },
    {
      "cell_type": "code",
      "metadata": {
        "id": "3KFsJmOVxFMb",
        "colab_type": "code",
        "outputId": "c389ca54-08cb-44a3-8077-297e430395c7",
        "colab": {
          "base_uri": "https://localhost:8080/",
          "height": 34
        }
      },
      "source": [
        "all_pcat_scores"
      ],
      "execution_count": 0,
      "outputs": [
        {
          "output_type": "execute_result",
          "data": {
            "text/plain": [
              "''"
            ]
          },
          "metadata": {
            "tags": []
          },
          "execution_count": 152
        }
      ]
    },
    {
      "cell_type": "code",
      "metadata": {
        "id": "iYXfVQ4YiO_J",
        "colab_type": "code",
        "colab": {}
      },
      "source": [
        "def alert_crawl(a_list, data_list):\n",
        "    for i in a_list:\n",
        "        url = i\n",
        "        response = requests.get(url)\n",
        "        if response.ok:\n",
        "\n",
        "            data = response.text\n",
        "\n",
        "            soup = BeautifulSoup(data, 'html.parser')\n",
        "\n",
        "            name = soup.select('h1')\n",
        "            names = [nom.get_text() for nom in name]\n",
        "            school_names = ''.join(names[0]).strip()\n",
        "\n",
        "            if soup.find(\"span\", itemprop=\"addressRegion\") is not None:\n",
        "                state = soup.find(\"span\", itemprop=\"addressRegion\").get_text()\n",
        "            else:\n",
        "                state = 'N/A'            \n",
        "            \n",
        "            alert_1 = soup.select('aside:nth-of-type(1)')\n",
        "            alert_1 = ''.join([aler.get_text().strip() for aler in alert_1]) \n",
        "            if 'Additional Information:' in alert_1:\n",
        "                alert_1 = 'N/A'\n",
        "            elif soup.select('aside:nth-of-type(1)') == []:\n",
        "                alert_1 = 'N/A'\n",
        "\n",
        "            alert_2 = soup.select('.prog-information > aside')\n",
        "            if 'Additional Information:' in alert_2:\n",
        "                alert_2 = 'N/A'\n",
        "            elif soup.select('.prog-information > aside') == []:\n",
        "                alert_2 = 'N/A'\n",
        "            else: \n",
        "                alert_2 = ''.join([aler.get_text().strip() for aler in alert_2])  \n",
        "\n",
        "            alert_3 = soup.select('.prog-criteria > aside')\n",
        "            if 'Details:' in alert_3:\n",
        "                alert_3 = 'N/A'\n",
        "            elif 'Additional Information:' in alert_3:\n",
        "                alert_3 = 'N/A'\n",
        "            elif soup.select('.prog-criteria > aside') == []:\n",
        "                alert_3 = 'N/A'\n",
        "            else: \n",
        "                alert_3 = ''.join([aler.get_text().strip() for aler in alert_3]) \n",
        "\n",
        "        data_alerts.append((school_names, state, alert_1, alert_2, alert_3))"
      ],
      "execution_count": 0,
      "outputs": []
    },
    {
      "cell_type": "code",
      "metadata": {
        "id": "CEtYUxBcmREU",
        "colab_type": "code",
        "outputId": "24d5ff22-1350-4b7d-cc1e-618f262dd628",
        "colab": {
          "base_uri": "https://localhost:8080/",
          "height": 262
        }
      },
      "source": [
        "data_alerts = []\n",
        "alert_crawl(links[11:], data_alerts)\n",
        "alerts = pd.DataFrame(data_alerts, columns=['School Name', 'State', 'Alert 1', 'Alert 2', 'Alert 3'])\n",
        "alerts.head()"
      ],
      "execution_count": 0,
      "outputs": [
        {
          "output_type": "execute_result",
          "data": {
            "text/html": [
              "<div>\n",
              "<style scoped>\n",
              "    .dataframe tbody tr th:only-of-type {\n",
              "        vertical-align: middle;\n",
              "    }\n",
              "\n",
              "    .dataframe tbody tr th {\n",
              "        vertical-align: top;\n",
              "    }\n",
              "\n",
              "    .dataframe thead th {\n",
              "        text-align: right;\n",
              "    }\n",
              "</style>\n",
              "<table border=\"1\" class=\"dataframe\">\n",
              "  <thead>\n",
              "    <tr style=\"text-align: right;\">\n",
              "      <th></th>\n",
              "      <th>School Name</th>\n",
              "      <th>State</th>\n",
              "      <th>Alert 1</th>\n",
              "      <th>Alert 2</th>\n",
              "      <th>Alert 3</th>\n",
              "    </tr>\n",
              "  </thead>\n",
              "  <tbody>\n",
              "    <tr>\n",
              "      <th>0</th>\n",
              "      <td>Albany College of Pharmacy and Health Sciences...</td>\n",
              "      <td>New York</td>\n",
              "      <td>ACPHS offers a 4-year pharmacy degree at its A...</td>\n",
              "      <td>N/A</td>\n",
              "      <td>N/A</td>\n",
              "    </tr>\n",
              "    <tr>\n",
              "      <th>1</th>\n",
              "      <td>Albany College of Pharmacy and Health Sciences...</td>\n",
              "      <td>Vermont</td>\n",
              "      <td>ACPHS offers a 3-year pharmacy degree at its C...</td>\n",
              "      <td>N/A</td>\n",
              "      <td>N/A</td>\n",
              "    </tr>\n",
              "    <tr>\n",
              "      <th>2</th>\n",
              "      <td>American University of Health Sciences</td>\n",
              "      <td>California</td>\n",
              "      <td>N/A</td>\n",
              "      <td>N/A</td>\n",
              "      <td>N/A</td>\n",
              "    </tr>\n",
              "    <tr>\n",
              "      <th>3</th>\n",
              "      <td>Appalachian College of Pharmacy</td>\n",
              "      <td>Virginia</td>\n",
              "      <td>Apply now!  THE APPLICATION DEADLINE HAS BEEN ...</td>\n",
              "      <td>N/A</td>\n",
              "      <td>N/A</td>\n",
              "    </tr>\n",
              "    <tr>\n",
              "      <th>4</th>\n",
              "      <td>Auburn University</td>\n",
              "      <td>Alabama</td>\n",
              "      <td>N/A</td>\n",
              "      <td>N/A</td>\n",
              "      <td>N/A</td>\n",
              "    </tr>\n",
              "  </tbody>\n",
              "</table>\n",
              "</div>"
            ],
            "text/plain": [
              "                                         School Name  ... Alert 3\n",
              "0  Albany College of Pharmacy and Health Sciences...  ...     N/A\n",
              "1  Albany College of Pharmacy and Health Sciences...  ...     N/A\n",
              "2             American University of Health Sciences  ...     N/A\n",
              "3                    Appalachian College of Pharmacy  ...     N/A\n",
              "4                                  Auburn University  ...     N/A\n",
              "\n",
              "[5 rows x 5 columns]"
            ]
          },
          "metadata": {
            "tags": []
          },
          "execution_count": 9
        }
      ]
    },
    {
      "cell_type": "code",
      "metadata": {
        "id": "uUCwbLK2mwPS",
        "colab_type": "code",
        "colab": {}
      },
      "source": [
        "alerts.to_csv('PharmCAS Alerts.csv', index = None, \n",
        "          header=True, encoding='utf-8')"
      ],
      "execution_count": 0,
      "outputs": []
    },
    {
      "cell_type": "code",
      "metadata": {
        "id": "A9d-fG6lvpQa",
        "colab_type": "code",
        "colab": {}
      },
      "source": [
        "files.download('PharmCAS Alerts.csv')"
      ],
      "execution_count": 0,
      "outputs": []
    },
    {
      "cell_type": "code",
      "metadata": {
        "id": "ap1EI5uZBIK-",
        "colab_type": "code",
        "colab": {}
      },
      "source": [
        ""
      ],
      "execution_count": 0,
      "outputs": []
    }
  ]
}