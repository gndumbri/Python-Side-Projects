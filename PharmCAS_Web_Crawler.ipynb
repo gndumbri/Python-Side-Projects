{
  "nbformat": 4,
  "nbformat_minor": 0,
  "metadata": {
    "colab": {
      "name": "PharmCAS Web Crawler",
      "provenance": []
    },
    "kernelspec": {
      "name": "python3",
      "display_name": "Python 3"
    },
    "accelerator": "GPU"
  },
  "cells": [
    {
      "cell_type": "code",
      "metadata": {
        "id": "_4kThTAscpMn",
        "colab_type": "code",
        "colab": {}
      },
      "source": [
        "!apt install chromium-chromedriver\n",
        "!pip install selenium\n",
        "from selenium import webdriver\n",
        "from selenium.webdriver.common.by import By\n",
        "from selenium.webdriver.support.ui import WebDriverWait\n",
        "from selenium.webdriver.support import expected_conditions as EC\n",
        "import pandas as pd\n",
        "import requests\n",
        "from time import sleep\n",
        "from bs4 import BeautifulSoup\n",
        "from google.colab import files\n",
        "options = webdriver.ChromeOptions()\n",
        "options.add_argument('--headless')\n",
        "options.add_argument('--no-sandbox')\n",
        "options.add_argument('--disable-dev-shm-usage')"
      ],
      "execution_count": 0,
      "outputs": []
    },
    {
      "cell_type": "code",
      "metadata": {
        "id": "soqxZWqdvaUo",
        "colab_type": "code",
        "colab": {}
      },
      "source": [
        "driver = webdriver.Chrome('chromedriver',options=options)\n",
        "driver.get(\"http://www.pharmcas.org/school-directory/#/pharmd/general-information\")\n",
        "driver.implicitly_wait(10)"
      ],
      "execution_count": 0,
      "outputs": []
    },
    {
      "cell_type": "code",
      "metadata": {
        "id": "S19D1_01vrG_",
        "colab_type": "code",
        "colab": {}
      },
      "source": [
        "numbers = driver.find_elements(By.XPATH, '//table[@class=\"phc-schools-table phc-schools-table-pharmd\"]//a')\n",
        "links = []\n",
        "for n in numbers:\n",
        "    number = n.get_attribute('href')\n",
        "    links.append(number)\n",
        "\n",
        "len(links)"
      ],
      "execution_count": 0,
      "outputs": []
    },
    {
      "cell_type": "code",
      "metadata": {
        "id": "KXgonq9kyj1H",
        "colab_type": "code",
        "colab": {}
      },
      "source": [
        "def pharm_crawl(a_list, data_list):\n",
        "    headers = {'user-agent': 'jobscraper - school project (gndumbri@gmail.com)'}\n",
        "    request_count = 0\n",
        "    for i in a_list:\n",
        "        url = i\n",
        "        response = requests.get(url, headers=headers)\n",
        "        if response.ok:\n",
        "            data = response.text\n",
        "\n",
        "            soup = BeautifulSoup(data, 'html.parser')\n",
        "\n",
        "            alert = soup.select('aside:nth-of-type(1)')\n",
        "            alerts = [al.get_text() for al in alert]\n",
        "            all_alerts = ''.join(alerts).strip()\n",
        "            all_alerts = all_alerts.replace('\\n                        ', '')\n",
        "            \n",
        "            name = soup.select('h1')\n",
        "            names = [nom.get_text() for nom in name]\n",
        "            all_names = ''.join(names[0]).strip()\n",
        "\n",
        "            if soup.find(\"span\", itemprop=\"addressRegion\") is not None:\n",
        "                state = soup.find(\"span\", itemprop=\"addressRegion\").get_text()\n",
        "            else:\n",
        "                state = 'N/A'\n",
        "\n",
        "            deadline = soup.select('.deadline > table > tbody > tr > td:nth-of-type(2)')\n",
        "            deadlines = [dead.get_text() for dead in deadline]\n",
        "            all_deadlines = ''.join(deadlines)\n",
        "\n",
        "            seat = soup.select('.prog-statistics > table > tbody > tr:nth-of-type(1) > td:nth-of-type(2)')\n",
        "            seats = [spot.get_text() for spot in seat]\n",
        "            all_seats = ''.join(seats)\n",
        "\n",
        "            update = soup.select('aside:nth-of-type(2)')\n",
        "            updates = [up.get_text() for up in update]\n",
        "            all_updates = ''.join(updates).strip()\n",
        "\n",
        "            private = soup.select('.prog-information > table > tbody > tr:nth-of-type(3) > td:nth-of-type(2)')\n",
        "            statuses = [status.get_text() for status in private]\n",
        "            all_statuses = ''.join(statuses).strip()\n",
        "\n",
        "            early = soup.select('.prog-information > table > tbody > tr:nth-of-type(11) > td:nth-of-type(2)')\n",
        "            early_dec = [first.get_text() for first in early]\n",
        "            all_early = ''.join(early_dec)\n",
        "            \n",
        "            ea = soup.select('.prog-information > table > tbody > tr:nth-of-type(12) > td:nth-of-type(2) > ul > li')\n",
        "            eas = [e_a.get_text() for e_a in ea]\n",
        "            all_eas = ''.join(eas)\n",
        "\n",
        "            min_ovr = soup.select('.prog-criteria > table > tbody > tr:nth-of-type(1) > td:nth-of-type(2)')\n",
        "            mins = [ovr.get_text() for ovr in min_ovr]\n",
        "            all_min_ovr = ''.join(mins)\n",
        "\n",
        "            min_req = soup.select('.prog-criteria > table > tbody > tr:nth-of-type(2) > td:nth-of-type(2)')\n",
        "            reqs = [req.get_text() for req in min_req]\n",
        "            all_min_req = ''.join(reqs)\n",
        "\n",
        "            hour = soup.select('.prog-prerequisites > table:nth-of-type(1) > tbody > tr:nth-of-type(1) > td:nth-of-type(2)')\n",
        "            hours = [our.get_text() for our in hour]\n",
        "            all_hours = ''.join(hours)\n",
        "\n",
        "            pcat = soup.select('.test > table > tbody > tr:nth-of-type(1) > td:nth-of-type(2) > p')\n",
        "            scores = [score.get_text() for score in pcat]\n",
        "            all_scores = ''.join(scores).strip()\n",
        "\n",
        "            pcat_score = soup.select('.test > table > tbody > tr:nth-of-type(2) > td:nth-of-type(2)')\n",
        "            pcat_scores = [pcs.get_text() for pcs in pcat_score]\n",
        "            all_pcat_scores = ''.join(pcat_scores)\n",
        "\n",
        "            lor = soup.select('.letters-of-reference > table > tbody > tr:nth-of-type(2) > td:nth-of-type(2)')\n",
        "            lors = [lo.get_text() for lo in lor]\n",
        "            all_lors = ''.join(lors).strip()\n",
        "\n",
        "            deposit = soup.select('.accepted-applicants > table > tbody > tr > td:nth-of-type(2), table > tbody > tr')\n",
        "            deposits = [dep.get_text() for dep in deposit]\n",
        "            all_deps = ((''.join(deposits[0])).replace('\\n', ' '))\n",
        "\n",
        "        data_list.append((all_alerts, all_names, state, all_deadlines, all_seats, all_updates, all_statuses, \n",
        "                    all_early, all_eas, all_min_ovr, all_min_req, all_hours, all_scores, all_pcat_scores, \n",
        "                    all_lors, all_deps))\n"
      ],
      "execution_count": 0,
      "outputs": []
    },
    {
      "cell_type": "code",
      "metadata": {
        "id": "uktE43blRwyL",
        "colab_type": "code",
        "colab": {
          "base_uri": "https://localhost:8080/",
          "height": 34
        },
        "outputId": "9bc1fa2a-86bf-4721-a05c-bf9dcf4b174a"
      },
      "source": [
        "data_list = []\n",
        "\n",
        "while len(data_list) != len(links[11:]):\n",
        "    pharm_crawl(links[11:], data_list)\n",
        "    sleep(3)\n",
        "\n",
        "print('complete')"
      ],
      "execution_count": 49,
      "outputs": [
        {
          "output_type": "stream",
          "text": [
            "complete\n"
          ],
          "name": "stdout"
        }
      ]
    },
    {
      "cell_type": "code",
      "metadata": {
        "id": "jWDHl_Eq3cXB",
        "colab_type": "code",
        "colab": {
          "base_uri": "https://localhost:8080/",
          "height": 498
        },
        "outputId": "ab738393-639d-4b33-854a-4fbf7b51a4b0"
      },
      "source": [
        "df = pd.DataFrame(data_list, columns=['Alerts','School', \n",
        "                  'State', 'Application Deadline', \n",
        "                  'Class Size', 'Updates', \n",
        "                  'Inst Type', 'Early Decision',\n",
        "                  'Specialty Programs', 'Min Overall GPA',\n",
        "                  'Min Pre-Req GPA', 'Pre-req hours',\n",
        "                  'PCAT Required', 'Minimum Composite PCAT Score Considered', \n",
        "                  'LORs', 'Deposit'])\n",
        "df.head()"
      ],
      "execution_count": 73,
      "outputs": [
        {
          "output_type": "execute_result",
          "data": {
            "text/html": [
              "<div>\n",
              "<style scoped>\n",
              "    .dataframe tbody tr th:only-of-type {\n",
              "        vertical-align: middle;\n",
              "    }\n",
              "\n",
              "    .dataframe tbody tr th {\n",
              "        vertical-align: top;\n",
              "    }\n",
              "\n",
              "    .dataframe thead th {\n",
              "        text-align: right;\n",
              "    }\n",
              "</style>\n",
              "<table border=\"1\" class=\"dataframe\">\n",
              "  <thead>\n",
              "    <tr style=\"text-align: right;\">\n",
              "      <th></th>\n",
              "      <th>Alerts</th>\n",
              "      <th>School</th>\n",
              "      <th>State</th>\n",
              "      <th>Application Deadline</th>\n",
              "      <th>Class Size</th>\n",
              "      <th>Updates</th>\n",
              "      <th>Inst Type</th>\n",
              "      <th>Early Decision</th>\n",
              "      <th>Specialty Programs</th>\n",
              "      <th>Min Overall GPA</th>\n",
              "      <th>Min Pre-Req GPA</th>\n",
              "      <th>Pre-req hours</th>\n",
              "      <th>PCAT Required</th>\n",
              "      <th>Minimum Composite PCAT Score Considered</th>\n",
              "      <th>LORs</th>\n",
              "      <th>Deposit</th>\n",
              "    </tr>\n",
              "  </thead>\n",
              "  <tbody>\n",
              "    <tr>\n",
              "      <th>0</th>\n",
              "      <td>ACPHS offers a 4-year pharmacy degree at its A...</td>\n",
              "      <td>Albany College of Pharmacy and Health Sciences...</td>\n",
              "      <td>New York</td>\n",
              "      <td>June 1, 2020</td>\n",
              "      <td>170</td>\n",
              "      <td>Additional Information:</td>\n",
              "      <td>Private</td>\n",
              "      <td>Yes</td>\n",
              "      <td>Early Assurance</td>\n",
              "      <td>2.5</td>\n",
              "      <td>2.5</td>\n",
              "      <td>63</td>\n",
              "      <td>Required</td>\n",
              "      <td></td>\n",
              "      <td>Two (2)</td>\n",
              "      <td>Yes    Amount: $500.00   Refundable? No</td>\n",
              "    </tr>\n",
              "    <tr>\n",
              "      <th>1</th>\n",
              "      <td>ACPHS offers a 3-year pharmacy degree at its C...</td>\n",
              "      <td>Albany College of Pharmacy and Health Sciences...</td>\n",
              "      <td>Vermont</td>\n",
              "      <td>April 1, 2020</td>\n",
              "      <td>30</td>\n",
              "      <td>Additional Information:</td>\n",
              "      <td>Private</td>\n",
              "      <td>Yes</td>\n",
              "      <td>Early Assurance Accelerated Progression (year...</td>\n",
              "      <td>2.5</td>\n",
              "      <td>2.5</td>\n",
              "      <td>63</td>\n",
              "      <td>Required</td>\n",
              "      <td></td>\n",
              "      <td>Two (2)</td>\n",
              "      <td>Yes    Amount: $500.00   Refundable? No</td>\n",
              "    </tr>\n",
              "    <tr>\n",
              "      <th>2</th>\n",
              "      <td>Additional Information:</td>\n",
              "      <td>American University of Health Sciences</td>\n",
              "      <td>California</td>\n",
              "      <td>June 1, 2020</td>\n",
              "      <td>60</td>\n",
              "      <td></td>\n",
              "      <td>Private</td>\n",
              "      <td>No</td>\n",
              "      <td>None</td>\n",
              "      <td>2.5</td>\n",
              "      <td>2.0</td>\n",
              "      <td>57</td>\n",
              "      <td>Optional</td>\n",
              "      <td></td>\n",
              "      <td>Three (3)</td>\n",
              "      <td>Yes    Amount: $500   Refundable? No   Detail...</td>\n",
              "    </tr>\n",
              "    <tr>\n",
              "      <th>3</th>\n",
              "      <td>Apply now!  Apply Early Decision and send Phar...</td>\n",
              "      <td>Appalachian College of Pharmacy</td>\n",
              "      <td>Virginia</td>\n",
              "      <td>May 1, 2020</td>\n",
              "      <td>75</td>\n",
              "      <td>Additional Information:</td>\n",
              "      <td>Private</td>\n",
              "      <td>Yes</td>\n",
              "      <td>None</td>\n",
              "      <td>2.00</td>\n",
              "      <td>2.00</td>\n",
              "      <td>72</td>\n",
              "      <td>Optional</td>\n",
              "      <td></td>\n",
              "      <td>Three (3)</td>\n",
              "      <td>Yes    Amount: $1000.00   Refundable? Yes   D...</td>\n",
              "    </tr>\n",
              "    <tr>\n",
              "      <th>4</th>\n",
              "      <td>Additional Information:\\nApplicants with GPAs ...</td>\n",
              "      <td>Auburn University</td>\n",
              "      <td>Alabama</td>\n",
              "      <td>May 1, 2020</td>\n",
              "      <td>151</td>\n",
              "      <td></td>\n",
              "      <td>Public</td>\n",
              "      <td>Yes</td>\n",
              "      <td>Early Assurance</td>\n",
              "      <td>2.5</td>\n",
              "      <td>2.5</td>\n",
              "      <td>87</td>\n",
              "      <td>Conditionally Required</td>\n",
              "      <td></td>\n",
              "      <td>Three (3)</td>\n",
              "      <td>Yes    Amount: $500   Refundable? No   Detail...</td>\n",
              "    </tr>\n",
              "  </tbody>\n",
              "</table>\n",
              "</div>"
            ],
            "text/plain": [
              "                                              Alerts  ...                                            Deposit\n",
              "0  ACPHS offers a 4-year pharmacy degree at its A...  ...        Yes    Amount: $500.00   Refundable? No    \n",
              "1  ACPHS offers a 3-year pharmacy degree at its C...  ...        Yes    Amount: $500.00   Refundable? No    \n",
              "2                            Additional Information:  ...   Yes    Amount: $500   Refundable? No   Detail...\n",
              "3  Apply now!  Apply Early Decision and send Phar...  ...   Yes    Amount: $1000.00   Refundable? Yes   D...\n",
              "4  Additional Information:\\nApplicants with GPAs ...  ...   Yes    Amount: $500   Refundable? No   Detail...\n",
              "\n",
              "[5 rows x 16 columns]"
            ]
          },
          "metadata": {
            "tags": []
          },
          "execution_count": 73
        }
      ]
    },
    {
      "cell_type": "code",
      "metadata": {
        "id": "7zmDvHLfmbao",
        "colab_type": "code",
        "colab": {}
      },
      "source": [
        "df.to_csv('Pharmacy_School_Surveillance_Program.csv', index = None, header=True, encoding='utf-8')"
      ],
      "execution_count": 0,
      "outputs": []
    },
    {
      "cell_type": "code",
      "metadata": {
        "id": "BDj9nQY3qm_M",
        "colab_type": "code",
        "colab": {}
      },
      "source": [
        "files.download('Pharmacy_School_Surveillance_Program.csv')"
      ],
      "execution_count": 0,
      "outputs": []
    }
  ]
}